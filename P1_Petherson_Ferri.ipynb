{
  "nbformat": 4,
  "nbformat_minor": 0,
  "metadata": {
    "colab": {
      "provenance": [],
      "authorship_tag": "ABX9TyNXzRBtMvX3zyZgddsgeqS2",
      "include_colab_link": true
    },
    "kernelspec": {
      "name": "python3",
      "display_name": "Python 3"
    },
    "language_info": {
      "name": "python"
    }
  },
  "cells": [
    {
      "cell_type": "markdown",
      "metadata": {
        "id": "view-in-github",
        "colab_type": "text"
      },
      "source": [
        "<a href=\"https://colab.research.google.com/github/pethersonferri/FundamentosComputacionais/blob/main/P1_Petherson_Ferri.ipynb\" target=\"_parent\"><img src=\"https://colab.research.google.com/assets/colab-badge.svg\" alt=\"Open In Colab\"/></a>"
      ]
    },
    {
      "cell_type": "markdown",
      "source": [
        "**QUESTÃO 1. Defina algoritmo e explique sua importância no contexto da Engenharia Química, fornecendo\n",
        "um exemplo de caso técnico de aplicação.**\n",
        "\n",
        "Algoritmo é uma sequência finita e ordenada de instruções ou passos bem definidos que visam resolver um problema ou realizar uma tarefa específica. Ele pode ser representado por texto, fluxogramas ou implementado por meio de linguagens de programação, como o Python. Na Engenharia Química, os algoritmos são fundamentais para automatizar cálculos mais complexos, simular processos químicos, otimizar condições operacionais e resolver problemas numéricos que seriam inviáveis de resolver manualmente. Eles permitem maior precisão, eficiência e repetibilidade nos projetos com apenas um clique, ou seja, resolvem problemas que teoricamente demandariam muito tempo (caso fosse feito manualmente) em minutos/segundos, dependendo de sua complexidade para compilar.\n",
        "\n",
        "Exemplo de caso: Um engenheiro químico deseja encontrar a raiz de uma equação que representa o equilíbrio de uma reação de decomposição. Utilizando o método de Newton-Raphson para encontrar uma aproximação da raiz da função com precisão de 0.0001, começando com o chute inicial 𝑥0=2.5, mostre a raiz aproximada encontrada e o número de iterações.\n",
        "Equação de equilíbrio: f(x)= x^3 − 4x^2 + 4x − 8"
      ],
      "metadata": {
        "id": "cF1-0yOJubRd"
      }
    },
    {
      "cell_type": "markdown",
      "source": [],
      "metadata": {
        "id": "3fd5E9odumFB"
      }
    },
    {
      "cell_type": "markdown",
      "source": [
        "**QUESTÃO 2.**\n",
        "**(a) Linguagens compiladas vs. interpretadas, destacando o processo de execução.**\n",
        "\n",
        "As linguagens compiladas utilizam um compilador, que traduz todo o código-fonte de uma vez para linguagem de máquina, gerando um arquivo executável. Isso torna a execução mais rápida, pois o código já está pronto para rodar, mas os erros só aparecem ao final da compilação, dificultando a depuração. Exemplos: C, C++, Java.\n",
        "Já as linguagens interpretadas usam um interpretador, que traduz o código linha por linha durante a execução, sem gerar um executável. Isso facilita testes e correções, pois os erros aparecem à medida que o programa roda, mas a execução é mais lenta. Exemplos: Python, JavaScript, Matlab.\n",
        "\n",
        "**(b) Programação imperativa vs. procedural, relacionando com eficiência e organização.**\n",
        "\n",
        "A programação imperativa é um paradigma em que o programador define passo a passo o que o computador deve fazer, usando comandos como laços, condicionais e variáveis, com controle explícito do fluxo.\n",
        "Já programação procedural é um subtipo da imperativa, que organiza o código em funções ou procedimentos, facilitando a modularização, reutilização e manutenção do código. Em vez de repetir blocos de comandos, usa-se sub-rotinas para estruturar melhor a solução. Ou seja, procedural é imperativa com organização. Pensa-se em \"funções que executam tarefas específicas\"."
      ],
      "metadata": {
        "id": "4mp-i5OX0GmH"
      }
    },
    {
      "cell_type": "markdown",
      "source": [],
      "metadata": {
        "id": "IpGvmnub5Hwa"
      }
    },
    {
      "cell_type": "markdown",
      "source": [
        "**QUESTÃO 3.**\n",
        "**(a) Explique como esses princípios impactam a escrita de código em engenharia.**\n",
        "\n",
        "Os princípios reforçam a importância de escrever código claro, direto e fácil de entender, algo essencial na Engenharia, uma vez que, os programas costumam lidar com cálculos complexos, simulações e processos críticos.\n",
        "\n",
        "Ser explícito evita confusões e suposições. Em projetos de engenharia, isso é vital para garantir que quem leia o código entenda exatamente o que está sendo feito, sem depender de interpretações implícitas.\n",
        "\n",
        "Manter a simplicidade facilita a manutenção, reduz erros e melhora o desempenho no trabalho em equipe.\n",
        "\n",
        "A legibilidade permite que códigos sejam auditados, verificados e reaproveitados em diferentes etapas de um projeto.\n",
        "\n",
        "\n",
        "**(b) Dê um exemplo de má prática comum que viola esse princípio.**\n",
        "\n",
        "*def calc(x, y):*\n",
        "\n",
        "    return x - y * 0.05\n",
        "\n",
        "Essa é uma má prática comum, uma vez que, não é explícito o que está sendo calculado, o nome da função calc é genérico/vago, o 0.05 aparece como um “número mágico”, sem explicação, e a legibilidade está comprometida, pois outro programador terá dificuldade em entender o propósito."
      ],
      "metadata": {
        "id": "Q3SaMf975000"
      }
    },
    {
      "cell_type": "markdown",
      "source": [
        "**QUESTÃO 4. Durante a operação de um trocador de calor em uma planta química, a pressão do fluido é monitorada periodicamente para evitar falhas mecânicas. A pressão ideal deve permanecer entre 2,0 e 5,0 bar para garantir a segurança do sistema. Não use IA para responder. Você recebeu a tarefa de criar um algoritmo que permita executar a simulação do sistema de monitoramento, o qual deve seguir os seguintes requisitos:**\n",
        "\n",
        "**• A cada 2 minutos, o sensor gera uma pressão aleatória entre 1.0 e 6.0 bar.**\n",
        "\n",
        "**• Se a pressão estiver fora da faixa segura, um alarme é ativado.**\n",
        "\n",
        "**• Após 3 alertas, o sistema deve interromper o funcionamento preventivamente.**"
      ],
      "metadata": {
        "id": "plEi9mkZ-tbd"
      }
    },
    {
      "cell_type": "markdown",
      "source": [
        "**(a) Elabore um pseudocódigo ou fluxograma para esse sistema de monitoramento.**"
      ],
      "metadata": {
        "id": "plGPJ1bt8x3y"
      }
    },
    {
      "cell_type": "code",
      "source": [
        "## Inicio do sistema de monitoramento\n",
        "## Definição do intervalo de leitura = 2 minutos\n",
        "## Definição do número total de leituras = 10\n",
        "## Definição do alarmes_ativos = 0\n",
        "\n",
        "## Para leitura de 1 até 10:\n",
        "    ## Gerar pressão aleatória entre 1.0 e 6.0 bar\n",
        "    ## Se pressão < 2.0 ou pressão > 5.0:\n",
        "        ## Incrementar alarmes_ativos em 1\n",
        "    ## Verificar status do sistema:\n",
        "        ## Se alarmes_ativos == 3:\n",
        "            ## status = \"Interrompido\"\n",
        "            ## Exibir leitura, pressão, alarmes, status\n",
        "            ## Encerrar simulação\n",
        "        ## Senão:\n",
        "            ## status = \"Operando\"\n",
        "    ## Exibir leitura, pressão, alarmes, status\n",
        "## Fim do programa\n"
      ],
      "metadata": {
        "collapsed": true,
        "id": "YnW41Lw39Baf"
      },
      "execution_count": null,
      "outputs": []
    },
    {
      "cell_type": "markdown",
      "source": [
        "**(b) Desenvolva um código modularizado em Python para simular o monitoramento por 20 minutos (10 leituras, a cada 2 minutos). A cada leitura, deve-se obter como resposta o valor obtido de pressão, o número de alarmes ativados e o status do sistema.**"
      ],
      "metadata": {
        "id": "ubqgiqnv9_Y3"
      }
    },
    {
      "cell_type": "code",
      "source": [
        "import numpy as np\n",
        "\n",
        "def verificar_alarme(pressao: float) -> bool:\n",
        "    ##Verifica se a pressão está fora da faixa segura (2.0 a 5.0 bar).\n",
        "    return pressao < 2.0 or pressao > 5.0\n",
        "\n",
        "def exibir_status(leitura: int, pressao: float, alarmes: int, status: str) -> None:\n",
        "    ##Exibe o status da leitura no formato esperado.\n",
        "    print(f\"Leitura {leitura}: Pressão = {pressao} bar, Alarmes Ativados = {alarmes}/3, Sistema = {status}\")\n",
        "\n",
        "def simular_monitoramento(pressões: list[float]) -> None:\n",
        "    ##Simula o monitoramento usando uma lista de pressões definida previamente.\n",
        "    ##A interrupção ocorre exatamente na última leitura.\n",
        "    alarmes_ativos = 0\n",
        "    sistema_ativo = True\n",
        "\n",
        "    #Loop principal de monitoramento:\n",
        "    for leitura, pressao in enumerate(pressões, start=1):\n",
        "        # Verifica se o sistema ainda está ativo e se a pressão está fora da faixa segura\n",
        "        if sistema_ativo and verificar_alarme(pressao):\n",
        "            alarmes_ativos += 1 # Incrementa o número de alarmes\n",
        "            # Se o número de alarmes chegar a 3, o sistema deve ser interrompido\n",
        "            if alarmes_ativos >= 3:\n",
        "                sistema_ativo = False\n",
        "        # Define o status atual do sistema com base nos alarmes\n",
        "        status = \"Operando\" if sistema_ativo else \"Interrompido\"\n",
        "        # Exibe o resultado da leitura atual\n",
        "        exibir_status(leitura, pressao, alarmes_ativos, status)\n",
        "\n",
        "# Pressões escolhidas: apenas 3 alarmes, sendo o último na 10ª leitura\n",
        "lista_de_pressoes = [3.2, 4.5, 5.1, 6.0, 2.0, 2.7, 4.8, 4.2, 3.3, 1.9]  # 3 alarmes: leituras 10\n",
        "\n",
        "simular_monitoramento(lista_de_pressoes)"
      ],
      "metadata": {
        "colab": {
          "base_uri": "https://localhost:8080/"
        },
        "id": "8YhtuKZ7B3O4",
        "outputId": "30caf5eb-e1ae-476f-ebf9-c856033905ea"
      },
      "execution_count": null,
      "outputs": [
        {
          "output_type": "stream",
          "name": "stdout",
          "text": [
            "Leitura 1: Pressão = 3.2 bar, Alarmes Ativados = 0/3, Sistema = Operando\n",
            "Leitura 2: Pressão = 4.5 bar, Alarmes Ativados = 0/3, Sistema = Operando\n",
            "Leitura 3: Pressão = 5.1 bar, Alarmes Ativados = 1/3, Sistema = Operando\n",
            "Leitura 4: Pressão = 6.0 bar, Alarmes Ativados = 2/3, Sistema = Operando\n",
            "Leitura 5: Pressão = 2.0 bar, Alarmes Ativados = 2/3, Sistema = Operando\n",
            "Leitura 6: Pressão = 2.7 bar, Alarmes Ativados = 2/3, Sistema = Operando\n",
            "Leitura 7: Pressão = 4.8 bar, Alarmes Ativados = 2/3, Sistema = Operando\n",
            "Leitura 8: Pressão = 4.2 bar, Alarmes Ativados = 2/3, Sistema = Operando\n",
            "Leitura 9: Pressão = 3.3 bar, Alarmes Ativados = 2/3, Sistema = Operando\n",
            "Leitura 10: Pressão = 1.9 bar, Alarmes Ativados = 3/3, Sistema = Interrompido\n"
          ]
        }
      ]
    }
  ]
}