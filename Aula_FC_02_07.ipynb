{
  "nbformat": 4,
  "nbformat_minor": 0,
  "metadata": {
    "colab": {
      "provenance": [],
      "authorship_tag": "ABX9TyNSPgp5mnewOzr9V7JfVNB9",
      "include_colab_link": true
    },
    "kernelspec": {
      "name": "python3",
      "display_name": "Python 3"
    },
    "language_info": {
      "name": "python"
    }
  },
  "cells": [
    {
      "cell_type": "markdown",
      "metadata": {
        "id": "view-in-github",
        "colab_type": "text"
      },
      "source": [
        "<a href=\"https://colab.research.google.com/github/pethersonferri/FundamentosComputacionais/blob/main/Aula_FC_02_07.ipynb\" target=\"_parent\"><img src=\"https://colab.research.google.com/assets/colab-badge.svg\" alt=\"Open In Colab\"/></a>"
      ]
    },
    {
      "cell_type": "code",
      "execution_count": 9,
      "metadata": {
        "id": "0zDeGEVBHMQ-"
      },
      "outputs": [],
      "source": [
        "from dataclasses import dataclass\n",
        "\n",
        "@dataclass\n",
        "class CSTR_param:\n",
        "    \"\"\"\n",
        "    Classe que armazena os parâmetros de um reator CSTR.\n",
        "\n",
        "    Atributos:\n",
        "        F (float): Vazão volumétrica de alimentação (L/min). Default = 50.0\n",
        "        V (float): Volume do reator (L). Default = 100.0\n",
        "        k (float): Constante de velocidade da reação de 1ª ordem (1/min). Default = 0.5\n",
        "    \"\"\"\n",
        "    F: float = 50.0  # L/min\n",
        "    V: float = 100.0  # L\n",
        "    k: float = 0.5    # 1/min\n",
        "\n",
        "def CSTR_model(param, Ca_entrada):\n",
        "    \"\"\"\n",
        "    Calcula a concentração de saída de um CSTR operando em regime permanente.\n",
        "\n",
        "    Fórmula usada:\n",
        "        C_A_saida = (F * C_A_entrada) / (F + V * k)\n",
        "\n",
        "    Parâmetros:\n",
        "        param (CSTR_param): Objeto contendo os parâmetros do reator.\n",
        "        Ca_entrada (float): Concentração de entrada do reagente A (mol/L).\n",
        "\n",
        "    Retorna:\n",
        "        float: Concentração de saída do reagente A (mol/L).\n",
        "    \"\"\"\n",
        "    Ca_saida = (param.F * Ca_entrada) / (param.F + param.V * param.k)\n",
        "    return Ca_saida\n",
        "\n",
        "def CSTR_series(lista_param, Ca_entrada):\n",
        "    \"\"\"\n",
        "    Simula uma série de reatores CSTR em série, todos operando em regime permanente.\n",
        "\n",
        "    Para cada reator da série, calcula a concentração de saída e a conversão acumulada.\n",
        "\n",
        "    Parâmetros:\n",
        "        lista_param (list of CSTR_param): Lista com os parâmetros de cada reator.\n",
        "        Ca_entrada (float): Concentração de entrada do reagente A no primeiro reator (mol/L).\n",
        "\n",
        "    Retorna:\n",
        "        tuple:\n",
        "            conc (list of float): Lista com as concentrações de A após cada estágio, incluindo a entrada.\n",
        "            conv (list of float): Lista com as conversões acumuladas após cada reator.\n",
        "    \"\"\"\n",
        "    conc = [Ca_entrada]\n",
        "    conv = []\n",
        "    for param in lista_param:\n",
        "        Ca_saida = CSTR_model(param, Ca_entrada)\n",
        "        conv_local = 1 - Ca_saida / conc[0]\n",
        "        conc.append(Ca_saida)\n",
        "        conv.append(conv_local)\n",
        "        Ca_entrada = Ca_saida\n",
        "    return conc, conv"
      ]
    },
    {
      "cell_type": "code",
      "source": [
        "# Parâmetros do reator\n",
        "lista_param = 3 * [CSTR_param()]\n",
        "\"\"\"\n",
        "Lista de parâmetros para os 3 CSTRs em série.\n",
        "Todos os reatores possuem os mesmos parâmetros definidos na classe CSTR_param:\n",
        "    - F = 50 L/min (vazão)\n",
        "    - V = 100 L (volume)\n",
        "    - k = 0,5 1/min (constante de velocidade)\n",
        "\"\"\"\n",
        "\n",
        "Ca0 = 1.0  # Concentração inicial de A na alimentação (mol/L)\n",
        "\n",
        "# Simulação dos reatores em série\n",
        "conc, conv = CSTR_series(lista_param, Ca0)\n",
        "\"\"\"\n",
        "conc: Lista contendo as concentrações de A após cada estágio (mol/L).\n",
        "      Inclui a concentração de entrada (Ca0) e as concentrações de saída após cada reator.\n",
        "\n",
        "conv: Lista contendo a conversão acumulada após cada reator.\n",
        "      Conversão definida como: X = (Ca0 - Ca_saida) / Ca0\n",
        "\"\"\"\n",
        "\n",
        "# Exibição dos resultados\n",
        "print(conc)  # Exibe as concentrações após cada estágio\n",
        "print(conv)  # Exibe as conversões acumuladas após cada reator\n"
      ],
      "metadata": {
        "colab": {
          "base_uri": "https://localhost:8080/"
        },
        "id": "9-T3oE7gNhu5",
        "outputId": "5b185c10-8972-4a64-efce-53668ae16fe3"
      },
      "execution_count": 10,
      "outputs": [
        {
          "output_type": "stream",
          "name": "stdout",
          "text": [
            "[1.0, 0.5, 0.25, 0.125]\n",
            "[0.5, 0.75, 0.875]\n"
          ]
        }
      ]
    }
  ]
}