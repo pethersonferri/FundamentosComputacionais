{
  "nbformat": 4,
  "nbformat_minor": 0,
  "metadata": {
    "colab": {
      "provenance": []
    },
    "kernelspec": {
      "name": "python3",
      "display_name": "Python 3"
    },
    "language_info": {
      "name": "python"
    }
  },
  "cells": [
    {
      "cell_type": "code",
      "source": [
        "W_A1 = 100\n",
        "X_A1 = 0.10\n",
        "W_B = 50\n",
        "X_B = 0.30\n",
        "\n",
        "#Primeiro caso:\n",
        "W_saida1 = W_A1 + W_B\n",
        "sal_saida1 = (W_A1 * X_A1) + (W_B * X_B)\n",
        "X_saida1 = sal_saida1 / W_saida1\n",
        "print(f\"Vazão de saída: {W_saida1} kg/h, Concentração de sal: {X_saida1*100:.2f}%\")\n",
        "\n",
        "# Mudando as condições:\n",
        "W_A2 = W_A1 * 0.5  # reduz  50%\n",
        "X_A2 = X_A1 * 1.5  # aumenta 50%\n",
        "\n",
        "W_saida2 = W_A2 + W_B\n",
        "sal_saida2 = (W_A2 * X_A2) + (W_B * X_B)\n",
        "X_saida2 = sal_saida2 / W_saida2\n",
        "\n",
        "print(f\"Vazão de saída: {W_saida2} kg/h, Concentração de sal: {X_saida2*100:.2f}%\")\n",
        "\n",
        "n = int(input(\"Quantas correntes você quer simular? \"))\n",
        "\n",
        "vazoes = []\n",
        "concentracoes = []\n",
        "\n",
        "def misturador_multicorrente(vazoes, concentracoes):\n",
        "  total_flow = 0\n",
        "  total_salt = 0\n",
        "  for i in range(n):\n",
        "    w = float(input(f\"Digite a vazão da corrente {i+1} (kg/h): \"))\n",
        "    x = float(input(f\"Digite a concentração de sal da corrente {i+1}: \"))\n",
        "    vazoes.append(w)\n",
        "    concentracoes.append(x)\n",
        "    total_flow += w\n",
        "    total_salt += w * x\n",
        "  output_concentration = total_salt / total_flow if total_flow > 0 else 0\n",
        "  return total_flow, output_concentration\n",
        "\n",
        "vazao_total, x_saida = misturador_multicorrente(vazoes, concentracoes)\n",
        "print(f\"\\nVazão total de saída: {vazao_total:.2f} kg/h\")\n",
        "print(f\"Concentração de sal na saída: {x_saida*100:.2f}%\")"
      ],
      "metadata": {
        "colab": {
          "base_uri": "https://localhost:8080/"
        },
        "id": "3Cmugwau_gVd",
        "outputId": "f7617ea7-8253-4bcc-a23a-872518dade8c"
      },
      "execution_count": null,
      "outputs": [
        {
          "output_type": "stream",
          "name": "stdout",
          "text": [
            "Vazão de saída: 150 kg/h, Concentração de sal: 16.67%\n",
            "Vazão de saída: 100.0 kg/h, Concentração de sal: 22.50%\n",
            "Quantas correntes você quer simular? 2\n",
            "Digite a vazão da corrente 1 (kg/h): 50\n",
            "Digite a concentração de sal da corrente 1: 0.30\n",
            "Digite a vazão da corrente 2 (kg/h): 50\n",
            "Digite a concentração de sal da corrente 2: 0.70\n",
            "\n",
            "Vazão total de saída: 100.00 kg/h\n",
            "Concentração de sal na saída: 50.00%\n"
          ]
        }
      ]
    }
  ]
}